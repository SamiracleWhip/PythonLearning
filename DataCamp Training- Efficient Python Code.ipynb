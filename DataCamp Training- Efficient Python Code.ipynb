{
 "cells": [
  {
   "cell_type": "markdown",
   "metadata": {},
   "source": [
    "# Writing Efficient Code in Python"
   ]
  },
  {
   "cell_type": "markdown",
   "metadata": {},
   "source": [
    "## Part 1"
   ]
  },
  {
   "cell_type": "code",
   "execution_count": 1,
   "metadata": {},
   "outputs": [],
   "source": [
    "nums = range(0,11)"
   ]
  },
  {
   "cell_type": "code",
   "execution_count": 2,
   "metadata": {},
   "outputs": [
    {
     "data": {
      "text/plain": [
       "range(0, 11)"
      ]
     },
     "execution_count": 2,
     "metadata": {},
     "output_type": "execute_result"
    }
   ],
   "source": [
    "nums"
   ]
  },
  {
   "cell_type": "code",
   "execution_count": 3,
   "metadata": {},
   "outputs": [],
   "source": [
    "nums_list= list(nums)"
   ]
  },
  {
   "cell_type": "code",
   "execution_count": 4,
   "metadata": {},
   "outputs": [
    {
     "name": "stdout",
     "output_type": "stream",
     "text": [
      "[0, 1, 2, 3, 4, 5, 6, 7, 8, 9, 10]\n"
     ]
    }
   ],
   "source": [
    "print(nums_list)"
   ]
  },
  {
   "cell_type": "code",
   "execution_count": 5,
   "metadata": {},
   "outputs": [],
   "source": [
    " even_nums = range(2,11,2)"
   ]
  },
  {
   "cell_type": "code",
   "execution_count": 6,
   "metadata": {},
   "outputs": [
    {
     "name": "stdout",
     "output_type": "stream",
     "text": [
      "[2, 4, 6, 8, 10]\n"
     ]
    }
   ],
   "source": [
    "even_nums_list = list(even_nums)\n",
    "print(even_nums_list)"
   ]
  },
  {
   "cell_type": "code",
   "execution_count": 7,
   "metadata": {},
   "outputs": [],
   "source": [
    "#Enumerate: Creates an indexed list of objects"
   ]
  },
  {
   "cell_type": "code",
   "execution_count": 8,
   "metadata": {},
   "outputs": [],
   "source": [
    "#map: Applies a function over an object. THIS IS SUPER IMPORTANT!"
   ]
  },
  {
   "cell_type": "code",
   "execution_count": 9,
   "metadata": {},
   "outputs": [
    {
     "name": "stdout",
     "output_type": "stream",
     "text": [
      "[2, 2, 3, 5, 5]\n"
     ]
    }
   ],
   "source": [
    "#eg:\n",
    "nums = [1.5, 2.3, 3.4, 4.6, 5.0]\n",
    "rnd_nums= map(round,nums)\n",
    "\n",
    "print(list(rnd_nums))"
   ]
  },
  {
   "cell_type": "code",
   "execution_count": 10,
   "metadata": {},
   "outputs": [
    {
     "name": "stdout",
     "output_type": "stream",
     "text": [
      "[1, 4, 9, 16, 25]\n"
     ]
    }
   ],
   "source": [
    "#map can also be used with a lambda (anonymous function)\n",
    "nums= [1,2,3,4,5]\n",
    "\n",
    "sqrd_nums = map(lambda x:x**2, nums)\n",
    "\n",
    "print(list(sqrd_nums))"
   ]
  },
  {
   "cell_type": "code",
   "execution_count": 11,
   "metadata": {},
   "outputs": [],
   "source": [
    "#So a lambda is an Anonymous function"
   ]
  },
  {
   "cell_type": "code",
   "execution_count": 12,
   "metadata": {},
   "outputs": [],
   "source": [
    "#Map allows us to apply a function ITERATIVELY WITHOUT WRITING A FOR \n",
    "#LOOP"
   ]
  },
  {
   "cell_type": "code",
   "execution_count": 13,
   "metadata": {},
   "outputs": [
    {
     "name": "stdout",
     "output_type": "stream",
     "text": [
      "<class 'range'>\n",
      "[0, 1, 2, 3, 4, 5]\n",
      "[1, 3, 5, 7, 9, 11]\n"
     ]
    }
   ],
   "source": [
    "#Task 1: Ranges\n",
    "# Create a range object that goes from 0 to 5\n",
    "nums = range(6)\n",
    "print(type(nums))\n",
    "\n",
    "# Convert nums to a list\n",
    "nums_list = list(nums)\n",
    "print(nums_list)\n",
    "\n",
    "# Create a new list of odd numbers from 1 to 11 by unpacking a range object\n",
    "nums_list2 = [*range(1,12,2)]\n",
    "print(nums_list2)"
   ]
  },
  {
   "cell_type": "code",
   "execution_count": 14,
   "metadata": {},
   "outputs": [
    {
     "name": "stdout",
     "output_type": "stream",
     "text": [
      "[(0, 'Jerry'), (1, 'Kramer'), (2, 'Elaine'), (3, 'George'), (4, 'Newman')]\n",
      "[(0, 'Jerry'), (1, 'Kramer'), (2, 'Elaine'), (3, 'George'), (4, 'Newman')]\n",
      "[(1, 'Jerry'), (2, 'Kramer'), (3, 'Elaine'), (4, 'George'), (5, 'Newman')]\n"
     ]
    }
   ],
   "source": [
    "#Task 2: Use Enumerate to index the following names\n",
    "names = ['Jerry', 'Kramer', 'Elaine', 'George', 'Newman']\n",
    "\n",
    "# Rewrite the for loop to use enumerate\n",
    "indexed_names = []\n",
    "for i,name in enumerate(names):\n",
    "    index_name = (i,name)\n",
    "    indexed_names.append(index_name) \n",
    "print(indexed_names)\n",
    "\n",
    "# Rewrite the above for loop using list comprehension. More efficient than before\n",
    "indexed_names_comp = [(i,name) for i,name in enumerate(names)]\n",
    "print(indexed_names_comp)\n",
    "\n",
    "# Unpack an enumerate object with a starting index of one. MOST EFFICIENT.\n",
    "indexed_names_unpack = [*enumerate(names, 1)]\n",
    "print(indexed_names_unpack)"
   ]
  },
  {
   "cell_type": "code",
   "execution_count": 15,
   "metadata": {},
   "outputs": [
    {
     "name": "stdout",
     "output_type": "stream",
     "text": [
      "<class 'map'>\n",
      "['JERRY', 'KRAMER', 'ELAINE', 'GEORGE', 'NEWMAN']\n"
     ]
    }
   ],
   "source": [
    "#Task 3: Using map function to manipulate a list\n",
    "\n",
    "# Use map to apply str.upper to each element in names\n",
    "names_map  = map(str.upper, names)\n",
    "\n",
    "# Print the type of the names_map\n",
    "print(type(names_map))\n",
    "\n",
    "# Unpack names_map into a list\n",
    "names_uppercase = [*names_map]\n",
    "\n",
    "# Print the list created above\n",
    "print(names_uppercase)"
   ]
  },
  {
   "cell_type": "code",
   "execution_count": 16,
   "metadata": {},
   "outputs": [],
   "source": [
    "#THE POWER OF NUMPY ARRAYS"
   ]
  },
  {
   "cell_type": "code",
   "execution_count": 17,
   "metadata": {},
   "outputs": [],
   "source": [
    "# Numpy = Numerical Python\n",
    "# The most important thing about Numpy is the Numpy Array\n",
    "# Numpy Arrays provide a FAST, and MEMORY EFFICIENT alternative to lists\n",
    "#list = np.array"
   ]
  },
  {
   "cell_type": "code",
   "execution_count": 18,
   "metadata": {},
   "outputs": [],
   "source": [
    "#Numpy arrays are all HOMOGENEOUS, meaning they all store the same data type (dtype)\n",
    "import numpy as np\n",
    "nums_np_ints = np.array([1,2,3])"
   ]
  },
  {
   "cell_type": "code",
   "execution_count": 19,
   "metadata": {},
   "outputs": [
    {
     "data": {
      "text/plain": [
       "dtype('int64')"
      ]
     },
     "execution_count": 19,
     "metadata": {},
     "output_type": "execute_result"
    }
   ],
   "source": [
    "nums_np_ints.dtype"
   ]
  },
  {
   "cell_type": "code",
   "execution_count": 20,
   "metadata": {},
   "outputs": [
    {
     "data": {
      "text/plain": [
       "array([4, 1, 0, 1, 4])"
      ]
     },
     "execution_count": 20,
     "metadata": {},
     "output_type": "execute_result"
    }
   ],
   "source": [
    "#Numpy arrays \"Vectorize operations\" so that they are performed at all elements of an\n",
    "#object at once. This allows for more efficiency\n",
    "\n",
    "nums_np = np.array([-2,-1,0,1,2])\n",
    "nums_np**2\n",
    "\n",
    "#NOTE: This can NOT be done with lists!!"
   ]
  },
  {
   "cell_type": "code",
   "execution_count": 21,
   "metadata": {},
   "outputs": [],
   "source": [
    "#Lists vs. Arrays: When using 2-dimensional arrays and lists, numpy arrays are superior\n",
    "# For 1 Dimensional arrays, they are identical."
   ]
  },
  {
   "cell_type": "code",
   "execution_count": 22,
   "metadata": {},
   "outputs": [],
   "source": [
    "#To turn a list into array:\n",
    "nums2 = [[1,2,3],\n",
    "        [4,5,6]]\n",
    "\n",
    "nums2_np = np.array(nums2)"
   ]
  },
  {
   "cell_type": "code",
   "execution_count": 23,
   "metadata": {},
   "outputs": [
    {
     "data": {
      "text/plain": [
       "array([[1, 2, 3],\n",
       "       [4, 5, 6]])"
      ]
     },
     "execution_count": 23,
     "metadata": {},
     "output_type": "execute_result"
    }
   ],
   "source": [
    "nums2_np"
   ]
  },
  {
   "cell_type": "code",
   "execution_count": 24,
   "metadata": {},
   "outputs": [],
   "source": [
    "import numpy as np\n",
    "#Numpy Array Boolean indexing: Arrays make indexing very easy compared to lists\n",
    "nums= [-2,-1,0,1,2]\n",
    "nums_np = np.array(nums)"
   ]
  },
  {
   "cell_type": "code",
   "execution_count": 25,
   "metadata": {},
   "outputs": [
    {
     "data": {
      "text/plain": [
       "array([False, False, False,  True,  True])"
      ]
     },
     "execution_count": 25,
     "metadata": {},
     "output_type": "execute_result"
    }
   ],
   "source": [
    "#Find all values in the array greater than Zero\n",
    "nums_np > 0"
   ]
  },
  {
   "cell_type": "code",
   "execution_count": 26,
   "metadata": {},
   "outputs": [
    {
     "data": {
      "text/plain": [
       "array([1, 2])"
      ]
     },
     "execution_count": 26,
     "metadata": {},
     "output_type": "execute_result"
    }
   ],
   "source": [
    "nums_np[nums_np > 0]"
   ]
  },
  {
   "cell_type": "code",
   "execution_count": 27,
   "metadata": {},
   "outputs": [],
   "source": [
    "# If you wanted to do this in lists, you would need to write a for loop or use a\n",
    "# list comprehension"
   ]
  },
  {
   "cell_type": "markdown",
   "metadata": {},
   "source": [
    "## Part 2"
   ]
  },
  {
   "cell_type": "code",
   "execution_count": 28,
   "metadata": {},
   "outputs": [],
   "source": [
    "#Examining Runtime in our Code"
   ]
  },
  {
   "cell_type": "code",
   "execution_count": 29,
   "metadata": {},
   "outputs": [],
   "source": [
    "#Runtime is an important indicator when thinking about efficiency\n",
    "#It allows us to pick which code is optimal- fastest and efficient."
   ]
  },
  {
   "cell_type": "code",
   "execution_count": 30,
   "metadata": {},
   "outputs": [
    {
     "name": "stdout",
     "output_type": "stream",
     "text": [
      "9.17 µs ± 775 ns per loop (mean ± std. dev. of 7 runs, 100000 loops each)\n"
     ]
    }
   ],
   "source": [
    "# Using the Magic Command %timeit . To use %timeit just add this line of code before the function!!\n",
    "\n",
    "%timeit rand_nums = np.random.rand(1000)"
   ]
  },
  {
   "cell_type": "code",
   "execution_count": 31,
   "metadata": {},
   "outputs": [],
   "source": [
    "# %timeit runs through the code multiple times to run through the estimated execution time"
   ]
  },
  {
   "cell_type": "code",
   "execution_count": 32,
   "metadata": {},
   "outputs": [
    {
     "name": "stdout",
     "output_type": "stream",
     "text": [
      "528 ns ± 18.6 ns per loop (mean ± std. dev. of 7 runs, 1000000 loops each)\n"
     ]
    }
   ],
   "source": [
    "%timeit nums = [x for x in range(10)]"
   ]
  },
  {
   "cell_type": "code",
   "execution_count": 33,
   "metadata": {},
   "outputs": [],
   "source": [
    "#Use Timeit to compare two ways to do the same code"
   ]
  },
  {
   "cell_type": "code",
   "execution_count": 34,
   "metadata": {},
   "outputs": [
    {
     "name": "stdout",
     "output_type": "stream",
     "text": [
      "82.1 ns ± 0.399 ns per loop (mean ± std. dev. of 7 runs, 10000000 loops each)\n"
     ]
    }
   ],
   "source": [
    "%timeit formal_dict = dict()"
   ]
  },
  {
   "cell_type": "code",
   "execution_count": 35,
   "metadata": {},
   "outputs": [
    {
     "name": "stdout",
     "output_type": "stream",
     "text": [
      "31.4 ns ± 1.93 ns per loop (mean ± std. dev. of 7 runs, 10000000 loops each)\n"
     ]
    }
   ],
   "source": [
    "%timeit literal_dict = {}\n",
    "#So writing a dictionary with {} is much faster!!"
   ]
  },
  {
   "cell_type": "code",
   "execution_count": 36,
   "metadata": {},
   "outputs": [],
   "source": [
    "#Code Profiling for Runtime\n",
    "#In order to see the line by line runtimes by function you use this.\n",
    "#Code Profiling is used to describe how long and how often it takes \n",
    "#to execute a function\n",
    "\n",
    "#Line-by-line analyses"
   ]
  },
  {
   "cell_type": "code",
   "execution_count": 37,
   "metadata": {},
   "outputs": [
    {
     "name": "stdout",
     "output_type": "stream",
     "text": [
      "Requirement already satisfied: line_profiler in /Users/samirbhojwani/opt/anaconda3/lib/python3.7/site-packages (3.3.1)\n",
      "Requirement already satisfied: IPython>=0.13; python_version >= \"3.7\" in /Users/samirbhojwani/opt/anaconda3/lib/python3.7/site-packages (from line_profiler) (7.12.0)\n",
      "Requirement already satisfied: pexpect; sys_platform != \"win32\" in /Users/samirbhojwani/opt/anaconda3/lib/python3.7/site-packages (from IPython>=0.13; python_version >= \"3.7\"->line_profiler) (4.8.0)\n",
      "Requirement already satisfied: traitlets>=4.2 in /Users/samirbhojwani/opt/anaconda3/lib/python3.7/site-packages (from IPython>=0.13; python_version >= \"3.7\"->line_profiler) (4.3.3)\n",
      "Requirement already satisfied: pickleshare in /Users/samirbhojwani/opt/anaconda3/lib/python3.7/site-packages (from IPython>=0.13; python_version >= \"3.7\"->line_profiler) (0.7.5)\n",
      "Requirement already satisfied: appnope; sys_platform == \"darwin\" in /Users/samirbhojwani/opt/anaconda3/lib/python3.7/site-packages (from IPython>=0.13; python_version >= \"3.7\"->line_profiler) (0.1.0)\n",
      "Requirement already satisfied: prompt-toolkit!=3.0.0,!=3.0.1,<3.1.0,>=2.0.0 in /Users/samirbhojwani/opt/anaconda3/lib/python3.7/site-packages (from IPython>=0.13; python_version >= \"3.7\"->line_profiler) (3.0.3)\n",
      "Requirement already satisfied: backcall in /Users/samirbhojwani/opt/anaconda3/lib/python3.7/site-packages (from IPython>=0.13; python_version >= \"3.7\"->line_profiler) (0.1.0)\n",
      "Requirement already satisfied: jedi>=0.10 in /Users/samirbhojwani/opt/anaconda3/lib/python3.7/site-packages (from IPython>=0.13; python_version >= \"3.7\"->line_profiler) (0.14.1)\n",
      "Requirement already satisfied: setuptools>=18.5 in /Users/samirbhojwani/opt/anaconda3/lib/python3.7/site-packages (from IPython>=0.13; python_version >= \"3.7\"->line_profiler) (46.0.0.post20200309)\n",
      "Requirement already satisfied: decorator in /Users/samirbhojwani/opt/anaconda3/lib/python3.7/site-packages (from IPython>=0.13; python_version >= \"3.7\"->line_profiler) (4.4.1)\n",
      "Requirement already satisfied: pygments in /Users/samirbhojwani/opt/anaconda3/lib/python3.7/site-packages (from IPython>=0.13; python_version >= \"3.7\"->line_profiler) (2.5.2)\n",
      "Requirement already satisfied: ptyprocess>=0.5 in /Users/samirbhojwani/opt/anaconda3/lib/python3.7/site-packages (from pexpect; sys_platform != \"win32\"->IPython>=0.13; python_version >= \"3.7\"->line_profiler) (0.6.0)\n",
      "Requirement already satisfied: ipython-genutils in /Users/samirbhojwani/opt/anaconda3/lib/python3.7/site-packages (from traitlets>=4.2->IPython>=0.13; python_version >= \"3.7\"->line_profiler) (0.2.0)\n",
      "Requirement already satisfied: six in /Users/samirbhojwani/opt/anaconda3/lib/python3.7/site-packages (from traitlets>=4.2->IPython>=0.13; python_version >= \"3.7\"->line_profiler) (1.14.0)\n",
      "Requirement already satisfied: wcwidth in /Users/samirbhojwani/opt/anaconda3/lib/python3.7/site-packages (from prompt-toolkit!=3.0.0,!=3.0.1,<3.1.0,>=2.0.0->IPython>=0.13; python_version >= \"3.7\"->line_profiler) (0.1.8)\n",
      "Requirement already satisfied: parso>=0.5.0 in /Users/samirbhojwani/opt/anaconda3/lib/python3.7/site-packages (from jedi>=0.10->IPython>=0.13; python_version >= \"3.7\"->line_profiler) (0.5.2)\n",
      "Note: you may need to restart the kernel to use updated packages.\n"
     ]
    }
   ],
   "source": [
    "pip install line_profiler"
   ]
  },
  {
   "cell_type": "code",
   "execution_count": 38,
   "metadata": {},
   "outputs": [],
   "source": [
    "# Code Profiling for Memory Usage\n",
    "# Looks at how to evaluate the codes memory footprint"
   ]
  },
  {
   "cell_type": "code",
   "execution_count": 39,
   "metadata": {},
   "outputs": [],
   "source": [
    "import sys\n",
    "#Can return the size of an object in bytes"
   ]
  },
  {
   "cell_type": "code",
   "execution_count": 40,
   "metadata": {},
   "outputs": [
    {
     "data": {
      "text/plain": [
       "144"
      ]
     },
     "execution_count": 40,
     "metadata": {},
     "output_type": "execute_result"
    }
   ],
   "source": [
    "sys.getsizeof(nums_list)"
   ]
  },
  {
   "cell_type": "code",
   "execution_count": 41,
   "metadata": {},
   "outputs": [],
   "source": [
    "# The memory_profiler package is very similar to the line_profiler package"
   ]
  },
  {
   "cell_type": "code",
   "execution_count": 42,
   "metadata": {},
   "outputs": [
    {
     "name": "stdout",
     "output_type": "stream",
     "text": [
      "Requirement already satisfied: memory_profiler in /Users/samirbhojwani/opt/anaconda3/lib/python3.7/site-packages (0.60.0)\n",
      "Requirement already satisfied: psutil in /Users/samirbhojwani/opt/anaconda3/lib/python3.7/site-packages (from memory_profiler) (5.6.7)\n",
      "Note: you may need to restart the kernel to use updated packages.\n"
     ]
    }
   ],
   "source": [
    "pip install memory_profiler"
   ]
  },
  {
   "cell_type": "code",
   "execution_count": 43,
   "metadata": {},
   "outputs": [],
   "source": [
    "#You can see a line by line function for MEMORY instead of time\n",
    "#It allows you to see which lines of code are taking up the most\n",
    "#memory to make your code more efficient."
   ]
  },
  {
   "cell_type": "code",
   "execution_count": 44,
   "metadata": {},
   "outputs": [
    {
     "name": "stderr",
     "output_type": "stream",
     "text": [
      "UsageError: Line magic function `%mprun` not found.\n"
     ]
    }
   ],
   "source": [
    "%mprun -f convert_units convert_units(heroes, hts, wts)"
   ]
  },
  {
   "cell_type": "markdown",
   "metadata": {},
   "source": [
    "## Part 3"
   ]
  },
  {
   "cell_type": "code",
   "execution_count": null,
   "metadata": {},
   "outputs": [],
   "source": [
    "#Efficiently Combining, Counting and Iterating Over Datasets"
   ]
  },
  {
   "cell_type": "code",
   "execution_count": null,
   "metadata": {},
   "outputs": [],
   "source": [
    "#Combining Objects"
   ]
  },
  {
   "cell_type": "code",
   "execution_count": null,
   "metadata": {},
   "outputs": [],
   "source": [
    "names= [\"Bulbasaur\",\"Charmander\",\"Squirtle\"]\n",
    "hps= [45,39,44]"
   ]
  },
  {
   "cell_type": "code",
   "execution_count": null,
   "metadata": {},
   "outputs": [],
   "source": [
    "combined = []\n",
    "\n",
    "for i,pokemon in enumerate(names):\n",
    "    combined.append((pokemon,hps[i]))\n",
    "    \n",
    "print(combined)"
   ]
  },
  {
   "cell_type": "code",
   "execution_count": null,
   "metadata": {},
   "outputs": [],
   "source": [
    "#For combining data, Zip is more elegant than a loop\n",
    "\n",
    "combined_zip = zip(names,hps)"
   ]
  },
  {
   "cell_type": "code",
   "execution_count": null,
   "metadata": {},
   "outputs": [],
   "source": [
    "combined_zip_list = [*combined_zip]\n",
    "print(combined_zip_list)\n",
    "#Each item is a tuple"
   ]
  },
  {
   "cell_type": "code",
   "execution_count": null,
   "metadata": {},
   "outputs": [],
   "source": [
    "#Counting Data Sets using counter"
   ]
  },
  {
   "cell_type": "code",
   "execution_count": null,
   "metadata": {},
   "outputs": [],
   "source": [
    "from collections import Counter"
   ]
  },
  {
   "cell_type": "code",
   "execution_count": null,
   "metadata": {},
   "outputs": [],
   "source": [
    "type_counts = Counter(poke_types)"
   ]
  },
  {
   "cell_type": "code",
   "execution_count": null,
   "metadata": {},
   "outputs": [],
   "source": [
    "# Set Theory"
   ]
  },
  {
   "cell_type": "code",
   "execution_count": null,
   "metadata": {},
   "outputs": [],
   "source": [
    "#Often we want to compare two objects to compare the similarities and differences between\n",
    "#their contents. When doing this type of comparison, its better to leverage Set Theory."
   ]
  },
  {
   "cell_type": "code",
   "execution_count": null,
   "metadata": {},
   "outputs": [],
   "source": [
    "#The set datatype is built in Python"
   ]
  },
  {
   "cell_type": "code",
   "execution_count": null,
   "metadata": {},
   "outputs": [],
   "source": [
    "#EXAMPLE: Suppose you have 2 lists of Pokemon:\n",
    "list_a = [\"Bulbasaur\",\"Charmader\",\"Squirtle\"]\n",
    "list_b = [\"Caterpie\",\"Pidgey\",\"Squirtle\"]"
   ]
  },
  {
   "cell_type": "code",
   "execution_count": null,
   "metadata": {},
   "outputs": [],
   "source": [
    "#We want to compare these lists to see which Pokemon appear in BOTH Lists"
   ]
  },
  {
   "cell_type": "code",
   "execution_count": null,
   "metadata": {},
   "outputs": [],
   "source": [
    "#Option 1: Use a for loop\n",
    "in_common = []\n",
    "\n",
    "for pokemon_a in list_a:\n",
    "    for pokemon_b in list_b:\n",
    "        if pokemon_a == pokemon_b:\n",
    "            in_common.append(pokemon_a)\n",
    "            \n",
    "print(in_common)"
   ]
  },
  {
   "cell_type": "code",
   "execution_count": null,
   "metadata": {},
   "outputs": [],
   "source": [
    "#But the above method is inefficient:\n",
    "set_a = set(list_a)\n",
    "set_b = set(list_b)\n",
    "\n",
    "#Convert these two lists into SETS. And now we can do several tests with them!!\n",
    "\n",
    "#Find which Pokemon they have in Common: Intersection\n",
    "set_a.intersection(set_b)"
   ]
  },
  {
   "cell_type": "code",
   "execution_count": null,
   "metadata": {},
   "outputs": [],
   "source": [
    "#Find Pokemon that exists in one set but not in another: Difference\n",
    "set_a.difference(set_b)"
   ]
  },
  {
   "cell_type": "code",
   "execution_count": null,
   "metadata": {},
   "outputs": [],
   "source": [
    "set_b.difference(set_a)"
   ]
  },
  {
   "cell_type": "code",
   "execution_count": null,
   "metadata": {},
   "outputs": [],
   "source": [
    "#Find Pokemon that exist in one of these sets but not both: Symmetric Difference\n",
    "set_a.symmetric_difference(set_b)"
   ]
  },
  {
   "cell_type": "code",
   "execution_count": null,
   "metadata": {},
   "outputs": [],
   "source": [
    "# Combine these two sets: Union\n",
    "set_b.union(set_a)"
   ]
  },
  {
   "cell_type": "code",
   "execution_count": null,
   "metadata": {},
   "outputs": [],
   "source": [
    "#Membership Testing: To see if a value belongs in a list: In\n",
    "# This type of test is MUCH faster in a Set than in a list or a tuple.\n",
    "\n",
    "\"Bulbasaur\" in set_a"
   ]
  },
  {
   "cell_type": "code",
   "execution_count": null,
   "metadata": {},
   "outputs": [],
   "source": [
    "#A set is defined as a collection of distinct elements. So we can use a set to collect\n",
    "#unique items."
   ]
  },
  {
   "cell_type": "code",
   "execution_count": null,
   "metadata": {},
   "outputs": [],
   "source": []
  },
  {
   "cell_type": "code",
   "execution_count": null,
   "metadata": {},
   "outputs": [],
   "source": [
    "#ELIMINATING LOOPS"
   ]
  },
  {
   "cell_type": "code",
   "execution_count": null,
   "metadata": {},
   "outputs": [],
   "source": [
    "#Although Using Loops can be a good practice, using them excessively can be inefficient\n",
    "#and costly. We have certain ways to eliminate or minimize the necessity of using loops in\n",
    "#our code"
   ]
  },
  {
   "cell_type": "code",
   "execution_count": null,
   "metadata": {},
   "outputs": [],
   "source": [
    "#Looping Patterns: for, while, nested. All of them are costly. So try to avoid looping."
   ]
  },
  {
   "cell_type": "code",
   "execution_count": null,
   "metadata": {},
   "outputs": [],
   "source": [
    "# List comprehension or Map functions take less lines of code and have faster runtimes."
   ]
  },
  {
   "cell_type": "code",
   "execution_count": null,
   "metadata": {},
   "outputs": [],
   "source": [
    "# Another powerful technique to eliminate loops is to use the NumPy Package."
   ]
  },
  {
   "cell_type": "code",
   "execution_count": null,
   "metadata": {},
   "outputs": [],
   "source": []
  },
  {
   "cell_type": "code",
   "execution_count": null,
   "metadata": {},
   "outputs": [],
   "source": [
    "#WRITING BETTER LOOPS: Loops can be costly and in efficient. But sometimes Necessary!"
   ]
  },
  {
   "cell_type": "code",
   "execution_count": null,
   "metadata": {},
   "outputs": [],
   "source": [
    "#Some techniques and rules can be considered to make loops more efficient:"
   ]
  },
  {
   "cell_type": "code",
   "execution_count": null,
   "metadata": {},
   "outputs": [],
   "source": [
    "# 1. Moving Calculations OUT OF a loop"
   ]
  },
  {
   "cell_type": "code",
   "execution_count": null,
   "metadata": {},
   "outputs": [],
   "source": [
    "names = [\"Absol\", \"Aron\", \"Jynx\",\"Natu\",\"Onix\"]\n",
    "attacks = np.array([130,70,50,50,45])"
   ]
  },
  {
   "cell_type": "code",
   "execution_count": null,
   "metadata": {},
   "outputs": [],
   "source": [
    "#We want to print the list of people with an attack value GREATER than the average"
   ]
  },
  {
   "cell_type": "code",
   "execution_count": null,
   "metadata": {},
   "outputs": [],
   "source": [
    "for name,attack in zip(names,attacks):\n",
    "    total_attack_avg = attacks.mean()\n",
    "    if attack > total_attack_avg:\n",
    "        print(\n",
    "        \"{}'s attackL {} > average: {}!\"\n",
    "        .format(name,attack,total_attack_avg)\n",
    "        )"
   ]
  },
  {
   "cell_type": "code",
   "execution_count": null,
   "metadata": {},
   "outputs": [],
   "source": [
    "#This is not efficient because you are iterating the mean calculation across each loop!!\n",
    "#You can move the mean calculation OUT OF THE LOOP to make it more efficient."
   ]
  },
  {
   "cell_type": "code",
   "execution_count": null,
   "metadata": {},
   "outputs": [],
   "source": [
    "#Move mean out of the loop, since this calculation is a one-off. It doesnt change between \n",
    "#iterations!!\n",
    "total_attack_avg = attacks.mean()\n",
    "\n",
    "for name,attack in zip(names,attacks):\n",
    "    if attack > total_attack_avg:\n",
    "        print(\n",
    "        \"{}'s attackL {} > average: {}!\"\n",
    "        .format(name,attack,total_attack_avg)\n",
    "        )"
   ]
  },
  {
   "cell_type": "code",
   "execution_count": null,
   "metadata": {},
   "outputs": [],
   "source": [
    "#Using Holistic Conversions"
   ]
  },
  {
   "cell_type": "code",
   "execution_count": null,
   "metadata": {},
   "outputs": [],
   "source": [
    "#EXAMPLE: We want to combine 3 lists using the zip function\n",
    "names= [\"Pikachu\",\"Squirtle\",\"Articuno\"]\n",
    "legend_status= [\"False\",\"False\",\"True\"]\n",
    "generations = [1,1,2]"
   ]
  },
  {
   "cell_type": "code",
   "execution_count": null,
   "metadata": {},
   "outputs": [],
   "source": [
    "poke_data = []\n",
    "\n",
    "for poke_tuple in zip(names,legend_status,generations):\n",
    "    poke_list = list(poke_tuple) #Remember: Zip returns a collection of Tuples!!\n",
    "    poke_data.append(poke_list)\n",
    "    \n",
    "print(poke_data) #Now you get a List of Lists"
   ]
  },
  {
   "cell_type": "code",
   "execution_count": null,
   "metadata": {},
   "outputs": [],
   "source": [
    "#However, converting each tuple into a list WITHIN a loop is NOT EFFICIENT!"
   ]
  },
  {
   "cell_type": "code",
   "execution_count": null,
   "metadata": {},
   "outputs": [],
   "source": [
    "#Instead you should collect all of the Poke Tuples together and use the map function\n",
    "#to convert each tuple into a list\n",
    "poke_data_tuples = []\n",
    "\n",
    "for poke_tuple in zip(names,legend_status,generations):\n",
    "    poke_data_tuples.append(poke_tuple)\n",
    "    \n",
    "poke_data2 = [*map(list, poke_data_tuples)] #Move the Tuple conversion OUTSIDE or Below loop\n",
    "\n",
    "print(poke_data2)"
   ]
  },
  {
   "cell_type": "code",
   "execution_count": null,
   "metadata": {},
   "outputs": [],
   "source": [
    "#Converting a tuple to a list outside of the loop is more efficient."
   ]
  },
  {
   "cell_type": "markdown",
   "metadata": {},
   "source": [
    "## Part 4"
   ]
  },
  {
   "cell_type": "code",
   "execution_count": null,
   "metadata": {},
   "outputs": [],
   "source": [
    "#Intro to Pandas DataFrame Iteration"
   ]
  },
  {
   "cell_type": "code",
   "execution_count": null,
   "metadata": {},
   "outputs": [],
   "source": [
    "#The main concept of Pandas is the DataFrame. A tabular Data Structure with labeled\n",
    "#rows and columns\n",
    "# It is built on top of the Numpy Array Structure!!"
   ]
  },
  {
   "cell_type": "code",
   "execution_count": null,
   "metadata": {},
   "outputs": [],
   "source": [
    "#Calculating Wins% with Two DF columns: Wins and Games played.\n",
    "\n",
    "def calc_winning_perc(wins, games_played):\n",
    "    \n",
    "    win_perc = wins/games_played\n",
    "    \n",
    "    return np.round(win_perc,2)"
   ]
  },
  {
   "cell_type": "code",
   "execution_count": null,
   "metadata": {},
   "outputs": [],
   "source": [
    "#Calculating Runs Difference\n",
    "def calc_run_diff(runs_scored, runs_allowed):\n",
    "\n",
    "    run_diff = runs_scored - runs_allowed\n",
    "\n",
    "    return run_diff"
   ]
  },
  {
   "cell_type": "code",
   "execution_count": null,
   "metadata": {},
   "outputs": [],
   "source": [
    "win_perc = calc_winning_perc(50,100)\n",
    "print(win_perc)"
   ]
  },
  {
   "cell_type": "code",
   "execution_count": null,
   "metadata": {},
   "outputs": [],
   "source": [
    "# .iloc- You loop over a dataframe with .iloc\n",
    "\n",
    "row = baseball_df.iloc[i]"
   ]
  },
  {
   "cell_type": "code",
   "execution_count": null,
   "metadata": {},
   "outputs": [],
   "source": [
    "#Pandas comes with some efficient methods for looping over a data frame:\n",
    "# .iterrows()\n",
    "\n",
    "#This is similar to the .iloc method but .iterrows() returns each row as a tuple of index\n",
    "#panda series pairs.\n",
    "\n",
    "#.iterrows() returns each DataFrame row as a tuple of (index, pandas Series) pairs\n",
    "\n",
    "for i,row in baseball_df.iterrows():"
   ]
  },
  {
   "cell_type": "code",
   "execution_count": null,
   "metadata": {},
   "outputs": [],
   "source": [
    "# .iterrows is much faster than .iloc to iterrate over a dataframe"
   ]
  },
  {
   "cell_type": "code",
   "execution_count": null,
   "metadata": {},
   "outputs": [],
   "source": []
  },
  {
   "cell_type": "code",
   "execution_count": null,
   "metadata": {},
   "outputs": [],
   "source": [
    "# USING .itertuples\n",
    "#This is another iteration method. It is often more efficient."
   ]
  },
  {
   "cell_type": "code",
   "execution_count": null,
   "metadata": {},
   "outputs": [],
   "source": [
    "# .iterrows returns each row as a SERIES OF TUPLES PAIRS."
   ]
  },
  {
   "cell_type": "code",
   "execution_count": null,
   "metadata": {},
   "outputs": [],
   "source": [
    "# .itertuples returns each row as a special data type called a \"Named Tuple\"\n",
    "# Example : Pandas(Index=1, Team = \"ATL\", Year = \"2012\", W = 95)"
   ]
  },
  {
   "cell_type": "code",
   "execution_count": null,
   "metadata": {},
   "outputs": [],
   "source": [
    "# These tuples have fields accessible via Attribute Lookup. This means we can access the\n",
    "# values using a lookup.\n",
    "#Itertuples store its data more efficiently."
   ]
  },
  {
   "cell_type": "code",
   "execution_count": null,
   "metadata": {},
   "outputs": [],
   "source": [
    "# Loop over the DataFrame and print each row's Index, Year and Wins (W)\n",
    "for row in rangers_df.itertuples():\n",
    "  i = row.Index\n",
    "  year = row.Year\n",
    "  wins = row.W\n",
    "  \n",
    "  # Check if rangers made Playoffs (1 means yes; 0 means no)\n",
    "  if row.Playoffs == 1:\n",
    "    print(i, year, wins)"
   ]
  },
  {
   "cell_type": "code",
   "execution_count": null,
   "metadata": {},
   "outputs": [],
   "source": []
  },
  {
   "cell_type": "code",
   "execution_count": null,
   "metadata": {},
   "outputs": [],
   "source": [
    "#Pandas Alternatives to Looping"
   ]
  },
  {
   "cell_type": "code",
   "execution_count": null,
   "metadata": {},
   "outputs": [],
   "source": [
    "#There are alternatives to Looping. One alternative is to use \"pandas.apply\" method\n",
    "#This function acts like the map we have applied in the past\n",
    "#Since it is tabular data pandas.apply must specifyt an axis to apply the function \n",
    "#on (0=columns, 1=rows) \n",
    "#pd.apply can be used with anonymous lambda functions too"
   ]
  },
  {
   "cell_type": "code",
   "execution_count": null,
   "metadata": {},
   "outputs": [],
   "source": [
    "#EXAMPLE:\n",
    "run_differentials_apply=baseball_df.apply(lambda x: calc_run_diff(x[\"RS\"],x[\"RA\"]),axis=1)\n",
    "\n",
    "baseball_df[\"RD\"] = run_diffs_apply"
   ]
  },
  {
   "cell_type": "code",
   "execution_count": null,
   "metadata": {},
   "outputs": [],
   "source": []
  },
  {
   "cell_type": "code",
   "execution_count": null,
   "metadata": {},
   "outputs": [],
   "source": [
    "# OPTIMAL PANDAS ITERATING"
   ]
  },
  {
   "cell_type": "code",
   "execution_count": null,
   "metadata": {},
   "outputs": [],
   "source": [
    "#Pandas is a library that is build on Numpy. So you can take advantage of the Broadcasting\n",
    "#functionality of the arrays!"
   ]
  },
  {
   "cell_type": "code",
   "execution_count": null,
   "metadata": {},
   "outputs": [],
   "source": [
    "#Vectorize- When an operation operates on an entire dataset at once\n",
    "#Just like Numpy, Pandas are built to Vectorize operations as well."
   ]
  },
  {
   "cell_type": "code",
   "execution_count": null,
   "metadata": {},
   "outputs": [],
   "source": [
    "#With vectorizing you no longer have to iterate across rows. You can vectorize to run the\n",
    "#operation ALL AT ONCE.\n",
    "\n",
    "run_diffs_np = baseball_df[\"RS\"].values - baseball_df[\"RA\"].values\n",
    "baseball_df[\"RD\"] = run_diffs_np\n",
    "print(baseball_df)"
   ]
  },
  {
   "cell_type": "code",
   "execution_count": null,
   "metadata": {},
   "outputs": [],
   "source": []
  }
 ],
 "metadata": {
  "kernelspec": {
   "display_name": "Python 3",
   "language": "python",
   "name": "python3"
  },
  "language_info": {
   "codemirror_mode": {
    "name": "ipython",
    "version": 3
   },
   "file_extension": ".py",
   "mimetype": "text/x-python",
   "name": "python",
   "nbconvert_exporter": "python",
   "pygments_lexer": "ipython3",
   "version": "3.7.6"
  }
 },
 "nbformat": 4,
 "nbformat_minor": 4
}
